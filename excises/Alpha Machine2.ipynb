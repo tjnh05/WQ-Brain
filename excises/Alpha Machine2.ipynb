{
 "cells": [
  {
   "cell_type": "markdown",
   "id": "333be283-d493-4723-9ae5-cd503ac112aa",
   "metadata": {},
   "source": [
    "## Import Library"
   ]
  },
  {
   "cell_type": "code",
   "execution_count": 1,
   "id": "fbf76117-979d-462e-b530-0a176f2f0e9b",
   "metadata": {},
   "outputs": [],
   "source": [
    "from machine_lib import * \n",
    "import random"
   ]
  },
  {
   "cell_type": "markdown",
   "id": "1ef5bef8-1053-4e98-84a5-822694058aa5",
   "metadata": {},
   "source": [
    "## 1, Login\n",
    "在machine_lib文件的login方法中填写用户名和密码后保存然后来到本文件Restart Kernal后重新import machine_lib"
   ]
  },
  {
   "cell_type": "code",
   "execution_count": 2,
   "id": "52afa2f2-b36f-42da-a2bd-f336bb579b80",
   "metadata": {},
   "outputs": [
    {
     "name": "stdout",
     "output_type": "stream",
     "text": [
      "b'{\"user\":{\"id\":\"TJ91365\"},\"token\":{\"expiry\":14400.0},\"permissions\":[\"CONSULTANT\",\"MULTI_SIMULATION\",\"PROD_ALPHAS\",\"REFERRAL\",\"VISUALIZATION\",\"WORKDAY\"]}'\n"
     ]
    }
   ],
   "source": [
    "s = login()"
   ]
  },
  {
   "cell_type": "markdown",
   "id": "38e838a5-4f2d-4065-a3cd-99ee530ecbe2",
   "metadata": {},
   "source": [
    "## 2, get data fields"
   ]
  },
  {
   "cell_type": "code",
   "execution_count": 9,
   "id": "e7cab936",
   "metadata": {},
   "outputs": [],
   "source": [
    "def process_datafields2(df, data_type):\n",
    "\n",
    "    if data_type == \"matrix\":\n",
    "        datafields = df[df['type'] == \"MATRIX\"][\"id\"].tolist()\n",
    "    elif data_type == \"vector\":\n",
    "        datafields = get_vec_fields(df[df['type'] == \"VECTOR\"][\"id\"].tolist())\n",
    "\n",
    "    tb_fields = []\n",
    "    for field in datafields:\n",
    "        tb_fields.append(f\"- {field} * ts_std_dev({field}, 20)\")\n",
    "        #tb_fields.append(\"winsorize(ts_backfill(%s, 120), std=4)\"%field)\n",
    "        #- assets * ts_std_dev(assets, 20)\n",
    "    return tb_fields"
   ]
  },
  {
   "cell_type": "code",
   "execution_count": 4,
   "id": "992a798a",
   "metadata": {},
   "outputs": [],
   "source": [
    "def get_datasets(\n",
    "    s,\n",
    "    instrument_type: str = 'EQUITY',\n",
    "    region: str = 'USA',\n",
    "    delay: int = 1,\n",
    "    universe: str = 'TOP3000'\n",
    "):\n",
    "    url = \"https://api.worldquantbrain.com/data-sets?\" +\\\n",
    "        f\"instrumentType={instrument_type}&region={region}&delay={str(delay)}&universe={universe}\"\n",
    "    result = s.get(url)\n",
    "    datasets_df = pd.DataFrame(result.json()['results'])\n",
    "    return datasets_df"
   ]
  },
  {
   "cell_type": "code",
   "execution_count": 5,
   "id": "4531c047",
   "metadata": {},
   "outputs": [
    {
     "data": {
      "text/html": [
       "<div>\n",
       "<style scoped>\n",
       "    .dataframe tbody tr th:only-of-type {\n",
       "        vertical-align: middle;\n",
       "    }\n",
       "\n",
       "    .dataframe tbody tr th {\n",
       "        vertical-align: top;\n",
       "    }\n",
       "\n",
       "    .dataframe thead th {\n",
       "        text-align: right;\n",
       "    }\n",
       "</style>\n",
       "<table border=\"1\" class=\"dataframe\">\n",
       "  <thead>\n",
       "    <tr style=\"text-align: right;\">\n",
       "      <th></th>\n",
       "      <th>id</th>\n",
       "      <th>name</th>\n",
       "      <th>description</th>\n",
       "      <th>category</th>\n",
       "      <th>subcategory</th>\n",
       "      <th>region</th>\n",
       "      <th>delay</th>\n",
       "      <th>universe</th>\n",
       "      <th>coverage</th>\n",
       "      <th>valueScore</th>\n",
       "      <th>userCount</th>\n",
       "      <th>alphaCount</th>\n",
       "      <th>fieldCount</th>\n",
       "      <th>pyramidMultiplier</th>\n",
       "      <th>themes</th>\n",
       "      <th>researchPapers</th>\n",
       "    </tr>\n",
       "  </thead>\n",
       "  <tbody>\n",
       "    <tr>\n",
       "      <th>0</th>\n",
       "      <td>analyst11</td>\n",
       "      <td>ESG scores</td>\n",
       "      <td>Environmental Social Governance scores that ex...</td>\n",
       "      <td>{'id': 'analyst', 'name': 'Analyst'}</td>\n",
       "      <td>{'id': 'analyst-esg', 'name': 'ESG'}</td>\n",
       "      <td>USA</td>\n",
       "      <td>1</td>\n",
       "      <td>TOP3000</td>\n",
       "      <td>0.6818</td>\n",
       "      <td>3.0</td>\n",
       "      <td>321</td>\n",
       "      <td>3887</td>\n",
       "      <td>197</td>\n",
       "      <td>1.3</td>\n",
       "      <td>[]</td>\n",
       "      <td>[{'type': 'discussion', 'title': 'Getting star...</td>\n",
       "    </tr>\n",
       "    <tr>\n",
       "      <th>1</th>\n",
       "      <td>analyst14</td>\n",
       "      <td>Estimations of Key Fundamentals</td>\n",
       "      <td>This dataset reports many items from financial...</td>\n",
       "      <td>{'id': 'analyst', 'name': 'Analyst'}</td>\n",
       "      <td>{'id': 'analyst-analyst-estimates', 'name': 'A...</td>\n",
       "      <td>USA</td>\n",
       "      <td>1</td>\n",
       "      <td>TOP3000</td>\n",
       "      <td>0.6203</td>\n",
       "      <td>2.0</td>\n",
       "      <td>677</td>\n",
       "      <td>43791</td>\n",
       "      <td>868</td>\n",
       "      <td>1.3</td>\n",
       "      <td>[]</td>\n",
       "      <td>[{'type': 'discussion', 'title': 'Getting star...</td>\n",
       "    </tr>\n",
       "    <tr>\n",
       "      <th>2</th>\n",
       "      <td>analyst15</td>\n",
       "      <td>Earnings forecasts</td>\n",
       "      <td>This dataset provides bottom-up forecast data ...</td>\n",
       "      <td>{'id': 'analyst', 'name': 'Analyst'}</td>\n",
       "      <td>{'id': 'analyst-analyst-estimates', 'name': 'A...</td>\n",
       "      <td>USA</td>\n",
       "      <td>1</td>\n",
       "      <td>TOP3000</td>\n",
       "      <td>0.9892</td>\n",
       "      <td>2.0</td>\n",
       "      <td>858</td>\n",
       "      <td>75662</td>\n",
       "      <td>2538</td>\n",
       "      <td>1.3</td>\n",
       "      <td>[]</td>\n",
       "      <td>[{'type': 'discussion', 'title': 'Getting star...</td>\n",
       "    </tr>\n",
       "    <tr>\n",
       "      <th>3</th>\n",
       "      <td>analyst16</td>\n",
       "      <td>Real Time Estimates</td>\n",
       "      <td>This dataset provides real-time access to the ...</td>\n",
       "      <td>{'id': 'analyst', 'name': 'Analyst'}</td>\n",
       "      <td>{'id': 'analyst-crowdsourced-estimates', 'name...</td>\n",
       "      <td>USA</td>\n",
       "      <td>1</td>\n",
       "      <td>TOP3000</td>\n",
       "      <td>0.8252</td>\n",
       "      <td>3.0</td>\n",
       "      <td>217</td>\n",
       "      <td>3288</td>\n",
       "      <td>107</td>\n",
       "      <td>1.3</td>\n",
       "      <td>[]</td>\n",
       "      <td>[{'type': 'research', 'title': 'Creating D0 Al...</td>\n",
       "    </tr>\n",
       "    <tr>\n",
       "      <th>4</th>\n",
       "      <td>analyst35</td>\n",
       "      <td>ESG Model</td>\n",
       "      <td>The dataset provide ESG related information ba...</td>\n",
       "      <td>{'id': 'analyst', 'name': 'Analyst'}</td>\n",
       "      <td>{'id': 'analyst-esg', 'name': 'ESG'}</td>\n",
       "      <td>USA</td>\n",
       "      <td>1</td>\n",
       "      <td>TOP3000</td>\n",
       "      <td>0.3771</td>\n",
       "      <td>4.0</td>\n",
       "      <td>69</td>\n",
       "      <td>455</td>\n",
       "      <td>46</td>\n",
       "      <td>1.3</td>\n",
       "      <td>[]</td>\n",
       "      <td>[{'type': 'discussion', 'title': 'Getting star...</td>\n",
       "    </tr>\n",
       "  </tbody>\n",
       "</table>\n",
       "</div>"
      ],
      "text/plain": [
       "          id                             name  \\\n",
       "0  analyst11                       ESG scores   \n",
       "1  analyst14  Estimations of Key Fundamentals   \n",
       "2  analyst15               Earnings forecasts   \n",
       "3  analyst16              Real Time Estimates   \n",
       "4  analyst35                        ESG Model   \n",
       "\n",
       "                                         description  \\\n",
       "0  Environmental Social Governance scores that ex...   \n",
       "1  This dataset reports many items from financial...   \n",
       "2  This dataset provides bottom-up forecast data ...   \n",
       "3  This dataset provides real-time access to the ...   \n",
       "4  The dataset provide ESG related information ba...   \n",
       "\n",
       "                               category  \\\n",
       "0  {'id': 'analyst', 'name': 'Analyst'}   \n",
       "1  {'id': 'analyst', 'name': 'Analyst'}   \n",
       "2  {'id': 'analyst', 'name': 'Analyst'}   \n",
       "3  {'id': 'analyst', 'name': 'Analyst'}   \n",
       "4  {'id': 'analyst', 'name': 'Analyst'}   \n",
       "\n",
       "                                         subcategory region  delay universe  \\\n",
       "0               {'id': 'analyst-esg', 'name': 'ESG'}    USA      1  TOP3000   \n",
       "1  {'id': 'analyst-analyst-estimates', 'name': 'A...    USA      1  TOP3000   \n",
       "2  {'id': 'analyst-analyst-estimates', 'name': 'A...    USA      1  TOP3000   \n",
       "3  {'id': 'analyst-crowdsourced-estimates', 'name...    USA      1  TOP3000   \n",
       "4               {'id': 'analyst-esg', 'name': 'ESG'}    USA      1  TOP3000   \n",
       "\n",
       "   coverage  valueScore  userCount  alphaCount  fieldCount  pyramidMultiplier  \\\n",
       "0    0.6818         3.0        321        3887         197                1.3   \n",
       "1    0.6203         2.0        677       43791         868                1.3   \n",
       "2    0.9892         2.0        858       75662        2538                1.3   \n",
       "3    0.8252         3.0        217        3288         107                1.3   \n",
       "4    0.3771         4.0         69         455          46                1.3   \n",
       "\n",
       "  themes                                     researchPapers  \n",
       "0     []  [{'type': 'discussion', 'title': 'Getting star...  \n",
       "1     []  [{'type': 'discussion', 'title': 'Getting star...  \n",
       "2     []  [{'type': 'discussion', 'title': 'Getting star...  \n",
       "3     []  [{'type': 'research', 'title': 'Creating D0 Al...  \n",
       "4     []  [{'type': 'discussion', 'title': 'Getting star...  "
      ]
     },
     "execution_count": 5,
     "metadata": {},
     "output_type": "execute_result"
    }
   ],
   "source": [
    "datasets_df = get_datasets(s) # by default we load all datasets USA TOP3000 delay 1\n",
    "datasets_df.head() # DataFrame.head() shows first 5 rows of the dataframe "
   ]
  },
  {
   "cell_type": "code",
   "execution_count": 6,
   "id": "ab1aa904",
   "metadata": {},
   "outputs": [
    {
     "data": {
      "text/plain": [
       "15"
      ]
     },
     "execution_count": 6,
     "metadata": {},
     "output_type": "execute_result"
    }
   ],
   "source": [
    "datasets = datasets_df[datasets_df['alphaCount']>20000]['id'].tolist()\n",
    "len(datasets)"
   ]
  },
  {
   "cell_type": "code",
   "execution_count": 7,
   "id": "f2b581dd",
   "metadata": {},
   "outputs": [
    {
     "data": {
      "text/plain": [
       "['analyst14',\n",
       " 'analyst15',\n",
       " 'analyst4',\n",
       " 'analyst7',\n",
       " 'fundamental17',\n",
       " 'fundamental2',\n",
       " 'fundamental23',\n",
       " 'fundamental28',\n",
       " 'fundamental6',\n",
       " 'model165',\n",
       " 'model26',\n",
       " 'model77',\n",
       " 'news12',\n",
       " 'option8',\n",
       " 'pv1']"
      ]
     },
     "execution_count": 7,
     "metadata": {},
     "output_type": "execute_result"
    }
   ],
   "source": [
    "datasets[:15]"
   ]
  },
  {
   "cell_type": "code",
   "execution_count": 10,
   "id": "e30c1789",
   "metadata": {},
   "outputs": [
    {
     "name": "stdout",
     "output_type": "stream",
     "text": [
      "- anl14_actvalue_bvps_fp0 * ts_std_dev(anl14_actvalue_bvps_fp0, 20)\n"
     ]
    },
    {
     "data": {
      "text/plain": [
       "18601"
      ]
     },
     "execution_count": 10,
     "metadata": {},
     "output_type": "execute_result"
    }
   ],
   "source": [
    "pc_fields = []\n",
    "for dd in datasets:\n",
    "    df = get_datafields(s, dataset_id = dd, region='USA', universe='TOP3000', delay=1)\n",
    "    temp = process_datafields2(df, \"matrix\") + process_datafields2(df, \"vector\")\n",
    "    pc_fields = pc_fields + temp\n",
    "\n",
    "print(pc_fields[0])\n",
    "len(pc_fields)"
   ]
  },
  {
   "cell_type": "code",
   "execution_count": 11,
   "id": "893db004",
   "metadata": {},
   "outputs": [
    {
     "data": {
      "text/plain": [
       "18601"
      ]
     },
     "execution_count": 11,
     "metadata": {},
     "output_type": "execute_result"
    }
   ],
   "source": [
    "len(pc_fields)"
   ]
  },
  {
   "cell_type": "markdown",
   "id": "ff2dcbb2-2d6c-4076-ac5e-80857adc78a8",
   "metadata": {},
   "source": [
    "## 3, Alpha factory\n",
    "### start with First Order"
   ]
  },
  {
   "cell_type": "code",
   "execution_count": 12,
   "id": "6b95c83a-ec99-4564-84b0-5a2c011f8555",
   "metadata": {},
   "outputs": [
    {
     "name": "stdout",
     "output_type": "stream",
     "text": [
      "['- anl14_actvalue_bvps_fp0 * ts_std_dev(anl14_actvalue_bvps_fp0, 20)', 'ts_rank(- anl14_actvalue_bvps_fp0 * ts_std_dev(anl14_actvalue_bvps_fp0, 20), 5)', 'ts_rank(- anl14_actvalue_bvps_fp0 * ts_std_dev(anl14_actvalue_bvps_fp0, 20), 22)', 'ts_rank(- anl14_actvalue_bvps_fp0 * ts_std_dev(anl14_actvalue_bvps_fp0, 20), 66)', 'ts_rank(- anl14_actvalue_bvps_fp0 * ts_std_dev(anl14_actvalue_bvps_fp0, 20), 120)', 'ts_rank(- anl14_actvalue_bvps_fp0 * ts_std_dev(anl14_actvalue_bvps_fp0, 20), 240)', 'ts_zscore(- anl14_actvalue_bvps_fp0 * ts_std_dev(anl14_actvalue_bvps_fp0, 20), 5)', 'ts_zscore(- anl14_actvalue_bvps_fp0 * ts_std_dev(anl14_actvalue_bvps_fp0, 20), 22)', 'ts_zscore(- anl14_actvalue_bvps_fp0 * ts_std_dev(anl14_actvalue_bvps_fp0, 20), 66)', 'ts_zscore(- anl14_actvalue_bvps_fp0 * ts_std_dev(anl14_actvalue_bvps_fp0, 20), 120)']\n",
      "1599686\n"
     ]
    }
   ],
   "source": [
    "first_order = get_first_order(pc_fields, ts_ops)\n",
    "print(first_order[:10])\n",
    "print(len(first_order))"
   ]
  },
  {
   "cell_type": "markdown",
   "id": "f3e8a468",
   "metadata": {},
   "source": [
    "List the Alphas"
   ]
  },
  {
   "cell_type": "code",
   "execution_count": 13,
   "id": "9e3da2b8",
   "metadata": {},
   "outputs": [
    {
     "name": "stdout",
     "output_type": "stream",
     "text": [
      "1599686\n",
      "[('- anl14_actvalue_bvps_fp0 * ts_std_dev(anl14_actvalue_bvps_fp0, 20)', 4), ('ts_rank(- anl14_actvalue_bvps_fp0 * ts_std_dev(anl14_actvalue_bvps_fp0, 20), 5)', 4), ('ts_rank(- anl14_actvalue_bvps_fp0 * ts_std_dev(anl14_actvalue_bvps_fp0, 20), 22)', 4), ('ts_rank(- anl14_actvalue_bvps_fp0 * ts_std_dev(anl14_actvalue_bvps_fp0, 20), 66)', 4), ('ts_rank(- anl14_actvalue_bvps_fp0 * ts_std_dev(anl14_actvalue_bvps_fp0, 20), 120)', 4)]\n"
     ]
    }
   ],
   "source": [
    "# Pad initial decay with alpha\n",
    "init_decay = 4\n",
    "fo_alpha_list = []\n",
    "for alpha in first_order:\n",
    "    fo_alpha_list.append((alpha, init_decay))\n",
    "print(len(fo_alpha_list))\n",
    "print(fo_alpha_list[:5])"
   ]
  },
  {
   "cell_type": "code",
   "execution_count": 14,
   "id": "5f2a9d7d",
   "metadata": {},
   "outputs": [
    {
     "name": "stdout",
     "output_type": "stream",
     "text": [
      "1599686\n",
      "[('ts_ir(- historical_volatility_60 * ts_std_dev(historical_volatility_60, 20), 22)', 4), ('ts_zscore(- anl15_cpsgics_gr_cal_fy3_pe * ts_std_dev(anl15_cpsgics_gr_cal_fy3_pe, 20), 5)', 4), ('ts_product(- fnd28_value_09121 * ts_std_dev(fnd28_value_09121, 20), 66)', 4), ('ts_max_diff(- fnd6_newqv1300_glced12 * ts_std_dev(fnd6_newqv1300_glced12, 20), 22)', 4), ('ts_ir(- news_ls * ts_std_dev(news_ls, 20), 240)', 4)]\n"
     ]
    }
   ],
   "source": [
    "# Create a new shuffled list\n",
    "shuffled_alpha_list = fo_alpha_list[:]  # Create a copy of the original list\n",
    "random.shuffle(shuffled_alpha_list)  # Shuffle the copy\n",
    "\n",
    "# Print the shuffled list\n",
    "print(len(shuffled_alpha_list))  # Length remains the same\n",
    "print(shuffled_alpha_list[:5])  # First 5 elements (now shuffled)"
   ]
  },
  {
   "cell_type": "code",
   "execution_count": 15,
   "id": "80d14e77",
   "metadata": {},
   "outputs": [],
   "source": [
    "fo_alpha_list = shuffled_alpha_list[:200000]"
   ]
  },
  {
   "cell_type": "code",
   "execution_count": 16,
   "id": "d95faa63",
   "metadata": {},
   "outputs": [
    {
     "data": {
      "text/plain": [
       "('ts_ir(- historical_volatility_60 * ts_std_dev(historical_volatility_60, 20), 22)',\n",
       " 4)"
      ]
     },
     "execution_count": 16,
     "metadata": {},
     "output_type": "execute_result"
    }
   ],
   "source": [
    "fo_alpha_list[0]"
   ]
  },
  {
   "cell_type": "code",
   "execution_count": 17,
   "id": "b4436351-0571-4beb-bf83-348c7dba9122",
   "metadata": {},
   "outputs": [
    {
     "name": "stdout",
     "output_type": "stream",
     "text": [
      "[[('ts_ir(- historical_volatility_60 * ts_std_dev(historical_volatility_60, 20), 22)', 4), ('ts_zscore(- anl15_cpsgics_gr_cal_fy3_pe * ts_std_dev(anl15_cpsgics_gr_cal_fy3_pe, 20), 5)', 4), ('ts_product(- fnd28_value_09121 * ts_std_dev(fnd28_value_09121, 20), 66)', 4), ('ts_max_diff(- fnd6_newqv1300_glced12 * ts_std_dev(fnd6_newqv1300_glced12, 20), 22)', 4), ('ts_ir(- news_ls * ts_std_dev(news_ls, 20), 240)', 4), ('ts_scale(- est_q_bps_lowerednum_1mth * ts_std_dev(est_q_bps_lowerednum_1mth, 20), 22)', 4), ('ts_rank(- est_q_ebs_lowered_1wk * ts_std_dev(est_q_ebs_lowered_1wk, 20), 120)', 4), ('ts_rank(- vec_stddev(nws12_afterhsz_epsactual) * ts_std_dev(vec_stddev(nws12_afterhsz_epsactual), 20), 240)', 4), ('ts_std_dev(- mdl26_mstchg_pct_fq1_rvn_90 * ts_std_dev(mdl26_mstchg_pct_fq1_rvn_90, 20), 66)', 4), ('ts_mean(- fnd28_nddq1_value_04055q * ts_std_dev(fnd28_nddq1_value_04055q, 20), 66)', 4)], [('ts_returns(- anl15_cpsgics_ind_18_m_cos_dn * ts_std_dev(anl15_cpsgics_ind_18_m_cos_dn, 20), 5)', 4), ('ts_max_diff(- fnd28_wcnddq1_value_04821q * ts_std_dev(fnd28_wcnddq1_value_04821q, 20), 5)', 4), ('ts_quantile(- fnd6_cptmfmq_lctq * ts_std_dev(fnd6_cptmfmq_lctq, 20), 120)', 4), ('ts_arg_min(- est_q_gps_raised_1wk * ts_std_dev(est_q_gps_raised_1wk, 20), 22)', 4), ('ts_returns(- est_12m_net_low * ts_std_dev(est_12m_net_low, 20), 66)', 4), ('ts_arg_max(- fnd28_anlev_value_08231a * ts_std_dev(fnd28_anlev_value_08231a, 20), 240)', 4), ('ts_product(- fnd17_qinvturn * ts_std_dev(fnd17_qinvturn, 20), 5)', 4), ('ts_min_diff(- anl15_salgics_gr_12_m_mean * ts_std_dev(anl15_salgics_gr_12_m_mean, 20), 22)', 4), ('ts_arg_max(- fnd28_nddq2_value_18390q * ts_std_dev(fnd28_nddq2_value_18390q, 20), 120)', 4), ('ts_delta(- anl15_ebtgics_gr_18_m_cos_up * ts_std_dev(anl15_ebtgics_gr_18_m_cos_up, 20), 66)', 4)], [('ts_sum(- fnd6_txtubtxtr * ts_std_dev(fnd6_txtubtxtr, 20), 120)', 4), ('ts_rank(- fnd23_annfv1a_vnin * ts_std_dev(fnd23_annfv1a_vnin, 20), 22)', 4), ('ts_zscore(- fn_liab_fair_val_q * ts_std_dev(fn_liab_fair_val_q, 20), 22)', 4), ('ts_zscore(- vec_avg(nws12_mainz_rangeamt) * ts_std_dev(vec_avg(nws12_mainz_rangeamt), 20), 22)', 4), ('ts_std_dev(- anl15_ind_fy2_ests_up * ts_std_dev(anl15_ind_fy2_ests_up, 20), 66)', 4), ('ts_sum(- mdl77_2deepvaluefactor_pqipmtt * ts_std_dev(mdl77_2deepvaluefactor_pqipmtt, 20), 240)', 4), ('ts_max_diff(- vec_sum(fnd6_xidos) * ts_std_dev(vec_sum(fnd6_xidos), 20), 5)', 4), ('ts_product(- fn_op_lease_rent_exp_a * ts_std_dev(fn_op_lease_rent_exp_a, 20), 66)', 4), ('ts_sum(- fnd23_annfv1a_tmaa * ts_std_dev(fnd23_annfv1a_tmaa, 20), 120)', 4), ('ts_zscore(- mdl77_2gdna_cg3ysales * ts_std_dev(mdl77_2gdna_cg3ysales, 20), 5)', 4)], [('ts_mean(- vec_sum(fnd6_newqeventv110_prcpepsq) * ts_std_dev(vec_sum(fnd6_newqeventv110_prcpepsq), 20), 240)', 4), ('ts_arg_max(- vec_choose(nws12_mainz_mainvwap, nth=0) * ts_std_dev(vec_choose(nws12_mainz_mainvwap, nth=0), 20), 5)', 4), ('ts_sum(- fnd28_wcbshtasseta_value_02401a * ts_std_dev(fnd28_wcbshtasseta_value_02401a, 20), 66)', 4), ('ts_arg_max(- anl14_low_roe_fy3 * ts_std_dev(anl14_low_roe_fy3, 20), 22)', 4), ('ts_arg_max(- mdl165_dl8ibesnuggetschiwumodel1_24v * ts_std_dev(mdl165_dl8ibesnuggetschiwumodel1_24v, 20), 240)', 4), ('ts_scale(- anl14_low_div_fy3 * ts_std_dev(anl14_low_div_fy3, 20), 22)', 4), ('ts_rank(- vec_choose(nws12_afterhsz_epsactual, nth=-1) * ts_std_dev(vec_choose(nws12_afterhsz_epsactual, nth=-1), 20), 120)', 4), ('ts_rank(- anl15_cps_s_cal_fy3_3m_chg * ts_std_dev(anl15_cps_s_cal_fy3_3m_chg, 20), 22)', 4), ('ts_ir(- anl15_salgics_s_fy1_cos_up * ts_std_dev(anl15_salgics_s_fy1_cos_up, 20), 120)', 4), ('ts_sum(- anl15_s_12_m_cos_dn * ts_std_dev(anl15_s_12_m_cos_dn, 20), 66)', 4)], [('ts_min_diff(- est_q_pre_mean_3mth_ago * ts_std_dev(est_q_pre_mean_3mth_ago, 20), 120)', 4), ('ts_max_diff(- fnd23_intfvm_fcfs * ts_std_dev(fnd23_intfvm_fcfs, 20), 120)', 4), ('ts_returns(- fnd17_ngmtpmtt * ts_std_dev(fnd17_ngmtpmtt, 20), 22)', 4), ('ts_skewness(- vec_count(fnd6_eventv110_glepsq) * ts_std_dev(vec_count(fnd6_eventv110_glepsq), 20), 66)', 4), ('ts_std_dev(- vec_avg(fnd6_cptnewqeventv110_req) * ts_std_dev(vec_avg(fnd6_cptnewqeventv110_req), 20), 66)', 4), ('ts_sum(- anl15_dpsgics_ind_cal_fy0_gro * ts_std_dev(anl15_dpsgics_ind_cal_fy0_gro, 20), 240)', 4), ('ts_skewness(- fnd28_pftlta_value_08330a * ts_std_dev(fnd28_pftlta_value_08330a, 20), 5)', 4), ('ts_zscore(- vec_skewness(anl4_basicdetaillt_prevval) * ts_std_dev(vec_skewness(anl4_basicdetaillt_prevval), 20), 5)', 4), ('ts_skewness(- vec_choose(fnd6_newqeventv110_xoptdqp, nth=0) * ts_std_dev(vec_choose(fnd6_newqeventv110_xoptdqp, nth=0), 20), 240)', 4), ('ts_skewness(- vec_max(fnd6_newqeventv110_revtq) * ts_std_dev(vec_max(fnd6_newqeventv110_revtq), 20), 66)', 4)], [('ts_mean(- fnd28_wcratesq_value_08241q * ts_std_dev(fnd28_wcratesq_value_08241q, 20), 22)', 4), ('ts_sum(- anl14_stddev_eps_fp5 * ts_std_dev(anl14_stddev_eps_fp5, 20), 120)', 4), ('ts_product(- vec_sum(nws12_mainz_range) * ts_std_dev(vec_sum(nws12_mainz_range), 20), 120)', 4), ('ts_ir(- vec_choose(nws12_mainz_01l, nth=0) * ts_std_dev(vec_choose(nws12_mainz_01l, nth=0), 20), 120)', 4), ('ts_arg_max(- vec_choose(anl4_eaz2lqfv110_prevval, nth=0) * ts_std_dev(vec_choose(anl4_eaz2lqfv110_prevval, nth=0), 20), 5)', 4), ('ts_scale(- fnd6_newqv1300_recdq * ts_std_dev(fnd6_newqv1300_recdq, 20), 120)', 4), ('ts_arg_max(- vec_count(fnd6_newqeventv110_lltq) * ts_std_dev(vec_count(fnd6_newqeventv110_lltq), 20), 120)', 4), ('ts_returns(- vec_ir(fnd6_newqeventv110_spcedpq) * ts_std_dev(vec_ir(fnd6_newqeventv110_spcedpq), 20), 5)', 4), ('ts_rank(- vec_skewness(nws12_prez_result2) * ts_std_dev(vec_skewness(nws12_prez_result2), 20), 22)', 4), ('ts_product(- est_q_eps_num * ts_std_dev(est_q_eps_num, 20), 5)', 4)], [('ts_arg_min(- vec_stddev(fnd6_newqeventv110_glaq) * ts_std_dev(vec_stddev(fnd6_newqeventv110_glaq), 20), 5)', 4), ('ts_kurtosis(- mdl77_garpanalystmodel_qgp_composite * ts_std_dev(mdl77_garpanalystmodel_qgp_composite, 20), 240)', 4), ('ts_product(- anl14_actvalue_ebit_fp0 * ts_std_dev(anl14_actvalue_ebit_fp0, 20), 5)', 4), ('ts_ir(- anl15_salgics_ind_fy3_cos_dn * ts_std_dev(anl15_salgics_ind_fy3_cos_dn, 20), 120)', 4), ('ts_arg_max(- vec_ir(anl4_cuo1detailqfv110_item) * ts_std_dev(vec_ir(anl4_cuo1detailqfv110_item), 20), 5)', 4), ('ts_returns(- vec_avg(fnd6_eventv110_wdepsq) * ts_std_dev(vec_avg(fnd6_eventv110_wdepsq), 20), 66)', 4), ('ts_sum(- mdl77_mpnghc * ts_std_dev(mdl77_mpnghc, 20), 120)', 4), ('ts_arg_min(- mdl77_2gdna_ratrev6m * ts_std_dev(mdl77_2gdna_ratrev6m, 20), 5)', 4), ('ts_min_diff(- fnd2_q_inventoryrawmaterials * ts_std_dev(fnd2_q_inventoryrawmaterials, 20), 120)', 4), ('ts_arg_max(- vec_count(anl4_basicconqfv110_high) * ts_std_dev(vec_count(anl4_basicconqfv110_high), 20), 66)', 4)], [('ts_product(- vec_skewness(fnd6_newqeventv110_rectoq) * ts_std_dev(vec_skewness(fnd6_newqeventv110_rectoq), 20), 5)', 4), ('ts_sum(- vec_skewness(anl4_basicdetailqfv110_estvalue) * ts_std_dev(vec_skewness(anl4_basicdetailqfv110_estvalue), 20), 22)', 4), ('ts_zscore(- vec_max(fnd6_newqeventv110_mibq) * ts_std_dev(vec_max(fnd6_newqeventv110_mibq), 20), 120)', 4), ('ts_product(- mdl77_opricemomentumfactor_w15tvp * ts_std_dev(mdl77_opricemomentumfactor_w15tvp, 20), 5)', 4), ('ts_min_diff(- vec_choose(nws12_afterhsz_1_minute, nth=0) * ts_std_dev(vec_choose(nws12_afterhsz_1_minute, nth=0), 20), 66)', 4), ('ts_scale(- anl15_s_12_m_cos_up * ts_std_dev(anl15_s_12_m_cos_up, 20), 5)', 4), ('ts_min_diff(- fnd28_wsbshtq_value_02999q * ts_std_dev(fnd28_wsbshtq_value_02999q, 20), 22)', 4), ('ts_sum(- mdl77_oearningsqualityfactor_pau * ts_std_dev(mdl77_oearningsqualityfactor_pau, 20), 120)', 4), ('ts_scale(- vec_choose(fnd6_newqeventv110_msaq, nth=0) * ts_std_dev(vec_choose(fnd6_newqeventv110_msaq, nth=0), 20), 22)', 4), ('ts_kurtosis(- anl4_cfo_low * ts_std_dev(anl4_cfo_low, 20), 22)', 4)], [('ts_arg_max(- vec_sum(fnd6_sales) * ts_std_dev(vec_sum(fnd6_sales), 20), 5)', 4), ('ts_mean(- anl15_ind_12_m_pe * ts_std_dev(anl15_ind_12_m_pe, 20), 66)', 4), ('ts_ir(- anl15_dps_s_fy3_ests_dn * ts_std_dev(anl15_dps_s_fy3_ests_dn, 20), 5)', 4), ('ts_delta(- vec_choose(anl4_bac1conltv110_item, nth=0) * ts_std_dev(vec_choose(anl4_bac1conltv110_item, nth=0), 20), 22)', 4), ('ts_ir(- anl14_numofests_epsrep_fy2 * ts_std_dev(anl14_numofests_epsrep_fy2, 20), 66)', 4), ('ts_kurtosis(- mdl165_dl8ibesnuggetschiwumodel2_72v * ts_std_dev(mdl165_dl8ibesnuggetschiwumodel2_72v, 20), 22)', 4), ('ts_max_diff(- vec_max(fnd6_naicss) * ts_std_dev(vec_max(fnd6_naicss), 20), 22)', 4), ('ts_kurtosis(- fnd28_annualgrowth_value_08816a * ts_std_dev(fnd28_annualgrowth_value_08816a, 20), 66)', 4), ('ts_kurtosis(- vec_max(fnd6_newqeventv110_glcepq) * ts_std_dev(vec_max(fnd6_newqeventv110_glcepq), 20), 120)', 4), ('ts_arg_min(- vec_count(fnd6_newqeventv110_pncwiapq) * ts_std_dev(vec_count(fnd6_newqeventv110_pncwiapq), 20), 5)', 4)]]\n"
     ]
    }
   ],
   "source": [
    "# Load alphas to task pools\n",
    "pools = load_task_pool(fo_alpha_list, 10, 9)\n",
    "print(pools[0])"
   ]
  },
  {
   "cell_type": "code",
   "execution_count": 18,
   "id": "0bae9d2a",
   "metadata": {},
   "outputs": [
    {
     "data": {
      "text/plain": [
       "223"
      ]
     },
     "execution_count": 18,
     "metadata": {},
     "output_type": "execute_result"
    }
   ],
   "source": [
    "len(pools)"
   ]
  },
  {
   "cell_type": "markdown",
   "id": "ad4cf830-441d-45f1-8e5a-17fa54082461",
   "metadata": {},
   "source": [
    "## 4, simulate alphas"
   ]
  },
  {
   "cell_type": "code",
   "execution_count": null,
   "id": "b6c7e33f",
   "metadata": {},
   "outputs": [
    {
     "name": "stdout",
     "output_type": "stream",
     "text": [
      "b'{\"user\":{\"id\":\"TJ91365\"},\"token\":{\"expiry\":14400.0},\"permissions\":[\"CONSULTANT\",\"MULTI_SIMULATION\",\"PROD_ALPHAS\",\"REFERRAL\",\"VISUALIZATION\",\"WORKDAY\"]}'\n",
      "pool 0 task 8 post done\n",
      "Not complete : https://api.worldquantbrain.com/simulations/2ixX5a1Xi4HwcgAnXMTrhLI\n",
      "Not complete : https://api.worldquantbrain.com/simulations/2Q2ueO9jK4Lq8Ok7S9tSsOC\n"
     ]
    }
   ],
   "source": [
    "# Simulate First Order\n",
    "multi_simulate(pools, \"SUBINDUSTRY\", \"USA\", \"TOP3000\", 0)"
   ]
  },
  {
   "cell_type": "markdown",
   "id": "03124465-1fe9-4820-915a-bc21795bff00",
   "metadata": {},
   "source": [
    "## 5, Select alphas\n",
    "go to web alphas penal to look for the number and date to track for next order improve"
   ]
  },
  {
   "cell_type": "code",
   "execution_count": null,
   "id": "764e459c",
   "metadata": {},
   "outputs": [],
   "source": [
    "## get promising alphas to improve in the next order\n",
    "fo_tracker = get_alphas(\"01-01\", \"02-02\", 1, 0.8, \"USA\", 1000, \"track\")"
   ]
  },
  {
   "cell_type": "markdown",
   "id": "6a6ae688-d0e6-42bb-a9bd-a8d6a044b027",
   "metadata": {},
   "source": [
    "## 6, Next order improvement - Second Order\n",
    "second order: ts_ops(field, days) -> group_ops(ts_ops(field, days), group)"
   ]
  },
  {
   "cell_type": "code",
   "execution_count": null,
   "id": "f7037d0a",
   "metadata": {},
   "outputs": [],
   "source": [
    "print(len(fo_tracker['next']))\n",
    "print(len(fo_tracker['decay']))\n",
    "\n",
    "fo_layer = prune(fo_tracker['next'] + fo_tracker['decay'], 'USA', 'mdl26', 5)\n",
    "so_alpha_list = []\n",
    "group_ops = group_ops = [\"group_neutralize\", \"group_rank\", \"group_normalize\", \"group_scale\", \"group_zscore\"]\n",
    "for region, couples in fo_layer.items():\n",
    "    for expr, decay in couples:\n",
    "        for alpha in get_group_second_order_factory([expr], group_ops, region):\n",
    "            so_alpha_list.append((alpha,decay))\n",
    "\n",
    "print(len(so_alpha_list))\n",
    "print(so_alpha_list[:3])"
   ]
  },
  {
   "cell_type": "markdown",
   "id": "f20213f6",
   "metadata": {},
   "source": [
    "### Simulate second order"
   ]
  },
  {
   "cell_type": "code",
   "execution_count": null,
   "id": "3fd912f9",
   "metadata": {},
   "outputs": [],
   "source": [
    "so_pools = load_task_pool(so_alpha_list, 9, 10)\n",
    "multi_simulate(so_pools, 'SUBINDUSTRY', 'USA', 'TOP3000', 0)"
   ]
  },
  {
   "cell_type": "markdown",
   "id": "2049d949",
   "metadata": {},
   "source": [
    "## Higher Order for improvement - Third Order\n",
    "group_ops(ts_ops(field, days), group) -> trade_when(entre_event, group_ops(ts_ops(field, days), group), exit_event)"
   ]
  },
  {
   "cell_type": "code",
   "execution_count": null,
   "id": "81a8250b",
   "metadata": {},
   "outputs": [],
   "source": [
    "## get promising alphas from second order to improve in the third order\n",
    "so_tracker = get_alphas(\"01-01\", \"02-02\", 1.4, 0.7, \"USA\", 360, \"track\")\n",
    "\n",
    "print(len(so_tracker['next']))\n",
    "print(len(so_tracker['decay']))\n",
    "\n",
    "so_layer = prune(so_tracker['next'] + so_tracker['decay'], 'chn', 'mdl26', 5)\n",
    "th_alpha_list = []\n",
    "for region, couples in so_layer.items():\n",
    "    for expr, decay in couples:\n",
    "        for alpha in trade_when_factory(\"trade_when\",expr,region):\n",
    "            th_alpha_list.append((alpha,decay))\n",
    "print(len(th_alpha_list))"
   ]
  },
  {
   "cell_type": "markdown",
   "id": "f7fa679e",
   "metadata": {},
   "source": [
    "### Simulate Third Order"
   ]
  },
  {
   "cell_type": "code",
   "execution_count": null,
   "id": "367d9436",
   "metadata": {},
   "outputs": [],
   "source": [
    "# Simulate third order\n",
    "th_pools = load_task_pool(th_alpha_list, 9, 10)\n",
    "multi_simulate(th_pools, 'SUBINDUSTRY', 'USA', 'TOP3000', 0)"
   ]
  },
  {
   "cell_type": "markdown",
   "id": "c55f86b4-b464-44e4-ab33-ca2532128fa2",
   "metadata": {},
   "source": [
    "## 7, Get submittable alphas\n",
    "check_submission and view alphas"
   ]
  },
  {
   "cell_type": "code",
   "execution_count": null,
   "id": "0972b4ee-7b9d-4a6f-a7ec-e43849f54275",
   "metadata": {},
   "outputs": [],
   "source": [
    "# get submitable alphas to check submission\n",
    "th_tracker = get_alphas(\"01-01\", \"02-02\", 1.58, 1, \"USA\", 200, \"submit\")"
   ]
  },
  {
   "cell_type": "code",
   "execution_count": null,
   "id": "ecdb7bae-6d0c-45d2-a91e-7ca789e3b92d",
   "metadata": {},
   "outputs": [],
   "source": [
    "stone_bag = []\n",
    "for alpha in th_tracker['next'] + th_tracker['decay']:\n",
    "    stone_bag.append(alpha[0])\n",
    "print(len(stone_bag))\n",
    "gold_bag = []\n",
    "check_submission(stone_bag, gold_bag, 0)"
   ]
  },
  {
   "cell_type": "code",
   "execution_count": null,
   "id": "f54bcb30-6c07-4d59-b6ea-01508118b577",
   "metadata": {},
   "outputs": [],
   "source": [
    "# look date and metrics to locate alphas in the web\n",
    "view_alphas(gold_bag)"
   ]
  },
  {
   "cell_type": "markdown",
   "id": "802d5f47-6a65-4b93-8f00-397cbd276520",
   "metadata": {},
   "source": [
    "## 8, fine-tune submittable alphas\n",
    "neutralization, performance comparison, turnover, margin"
   ]
  },
  {
   "cell_type": "code",
   "execution_count": null,
   "id": "98e5469e",
   "metadata": {},
   "outputs": [],
   "source": []
  },
  {
   "cell_type": "code",
   "execution_count": null,
   "id": "1290c3fe",
   "metadata": {},
   "outputs": [],
   "source": []
  }
 ],
 "metadata": {
  "kernelspec": {
   "display_name": "Python 3 (ipykernel)",
   "language": "python",
   "name": "python3"
  },
  "language_info": {
   "codemirror_mode": {
    "name": "ipython",
    "version": 3
   },
   "file_extension": ".py",
   "mimetype": "text/x-python",
   "name": "python",
   "nbconvert_exporter": "python",
   "pygments_lexer": "ipython3",
   "version": "3.9.13"
  },
  "toc": {
   "base_numbering": 1,
   "nav_menu": {},
   "number_sections": false,
   "sideBar": true,
   "skip_h1_title": true,
   "title_cell": "Table of Contents",
   "title_sidebar": "Contents",
   "toc_cell": false,
   "toc_position": {
    "height": "calc(100% - 180px)",
    "left": "10px",
    "top": "150px",
    "width": "246.396px"
   },
   "toc_section_display": true,
   "toc_window_display": false
  }
 },
 "nbformat": 4,
 "nbformat_minor": 5
}

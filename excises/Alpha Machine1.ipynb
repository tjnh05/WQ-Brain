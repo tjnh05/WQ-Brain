{
 "cells": [
  {
   "cell_type": "markdown",
   "id": "333be283-d493-4723-9ae5-cd503ac112aa",
   "metadata": {},
   "source": [
    "## Import Library"
   ]
  },
  {
   "cell_type": "code",
   "execution_count": 1,
   "id": "fbf76117-979d-462e-b530-0a176f2f0e9b",
   "metadata": {},
   "outputs": [],
   "source": [
    "from machine_lib import * "
   ]
  },
  {
   "cell_type": "markdown",
   "id": "1ef5bef8-1053-4e98-84a5-822694058aa5",
   "metadata": {},
   "source": [
    "## 1, Login\n",
    "在machine_lib文件的login方法中填写用户名和密码后保存然后来到本文件Restart Kernal后重新import machine_lib"
   ]
  },
  {
   "cell_type": "code",
   "execution_count": 2,
   "id": "52afa2f2-b36f-42da-a2bd-f336bb579b80",
   "metadata": {},
   "outputs": [
    {
     "name": "stdout",
     "output_type": "stream",
     "text": [
      "b'{\"user\":{\"id\":\"TJ91365\"},\"token\":{\"expiry\":14400.0},\"permissions\":[\"CONSULTANT\",\"MULTI_SIMULATION\",\"PROD_ALPHAS\",\"REFERRAL\",\"VISUALIZATION\",\"WORKDAY\"]}'\n"
     ]
    }
   ],
   "source": [
    "s = login()"
   ]
  },
  {
   "cell_type": "markdown",
   "id": "38e838a5-4f2d-4065-a3cd-99ee530ecbe2",
   "metadata": {},
   "source": [
    "## 2, get data fields"
   ]
  },
  {
   "cell_type": "code",
   "execution_count": 3,
   "id": "07d154b7",
   "metadata": {},
   "outputs": [],
   "source": [
    "def get_datasets(\n",
    "    s,\n",
    "    instrument_type: str = 'EQUITY',\n",
    "    region: str = 'USA',\n",
    "    delay: int = 1,\n",
    "    universe: str = 'TOP3000'\n",
    "):\n",
    "    url = \"https://api.worldquantbrain.com/data-sets?\" +\\\n",
    "        f\"instrumentType={instrument_type}&region={region}&delay={str(delay)}&universe={universe}\"\n",
    "    result = s.get(url)\n",
    "    datasets_df = pd.DataFrame(result.json()['results'])\n",
    "    return datasets_df"
   ]
  },
  {
   "cell_type": "code",
   "execution_count": 4,
   "id": "4caa0403",
   "metadata": {},
   "outputs": [
    {
     "data": {
      "text/html": [
       "<div>\n",
       "<style scoped>\n",
       "    .dataframe tbody tr th:only-of-type {\n",
       "        vertical-align: middle;\n",
       "    }\n",
       "\n",
       "    .dataframe tbody tr th {\n",
       "        vertical-align: top;\n",
       "    }\n",
       "\n",
       "    .dataframe thead th {\n",
       "        text-align: right;\n",
       "    }\n",
       "</style>\n",
       "<table border=\"1\" class=\"dataframe\">\n",
       "  <thead>\n",
       "    <tr style=\"text-align: right;\">\n",
       "      <th></th>\n",
       "      <th>id</th>\n",
       "      <th>name</th>\n",
       "      <th>description</th>\n",
       "      <th>category</th>\n",
       "      <th>subcategory</th>\n",
       "      <th>region</th>\n",
       "      <th>delay</th>\n",
       "      <th>universe</th>\n",
       "      <th>coverage</th>\n",
       "      <th>valueScore</th>\n",
       "      <th>userCount</th>\n",
       "      <th>alphaCount</th>\n",
       "      <th>fieldCount</th>\n",
       "      <th>pyramidMultiplier</th>\n",
       "      <th>themes</th>\n",
       "      <th>researchPapers</th>\n",
       "    </tr>\n",
       "  </thead>\n",
       "  <tbody>\n",
       "    <tr>\n",
       "      <th>0</th>\n",
       "      <td>analyst11</td>\n",
       "      <td>ESG scores</td>\n",
       "      <td>Environmental Social Governance scores that ex...</td>\n",
       "      <td>{'id': 'analyst', 'name': 'Analyst'}</td>\n",
       "      <td>{'id': 'analyst-esg', 'name': 'ESG'}</td>\n",
       "      <td>USA</td>\n",
       "      <td>1</td>\n",
       "      <td>TOP3000</td>\n",
       "      <td>0.6818</td>\n",
       "      <td>3.0</td>\n",
       "      <td>321</td>\n",
       "      <td>3887</td>\n",
       "      <td>197</td>\n",
       "      <td>1.2</td>\n",
       "      <td>[]</td>\n",
       "      <td>[{'type': 'discussion', 'title': 'Getting star...</td>\n",
       "    </tr>\n",
       "    <tr>\n",
       "      <th>1</th>\n",
       "      <td>analyst14</td>\n",
       "      <td>Estimations of Key Fundamentals</td>\n",
       "      <td>This dataset reports many items from financial...</td>\n",
       "      <td>{'id': 'analyst', 'name': 'Analyst'}</td>\n",
       "      <td>{'id': 'analyst-analyst-estimates', 'name': 'A...</td>\n",
       "      <td>USA</td>\n",
       "      <td>1</td>\n",
       "      <td>TOP3000</td>\n",
       "      <td>0.6203</td>\n",
       "      <td>2.0</td>\n",
       "      <td>677</td>\n",
       "      <td>43791</td>\n",
       "      <td>868</td>\n",
       "      <td>1.2</td>\n",
       "      <td>[]</td>\n",
       "      <td>[{'type': 'discussion', 'title': 'Getting star...</td>\n",
       "    </tr>\n",
       "    <tr>\n",
       "      <th>2</th>\n",
       "      <td>analyst15</td>\n",
       "      <td>Earnings forecasts</td>\n",
       "      <td>This dataset provides bottom-up forecast data ...</td>\n",
       "      <td>{'id': 'analyst', 'name': 'Analyst'}</td>\n",
       "      <td>{'id': 'analyst-analyst-estimates', 'name': 'A...</td>\n",
       "      <td>USA</td>\n",
       "      <td>1</td>\n",
       "      <td>TOP3000</td>\n",
       "      <td>0.9892</td>\n",
       "      <td>2.0</td>\n",
       "      <td>858</td>\n",
       "      <td>75662</td>\n",
       "      <td>2538</td>\n",
       "      <td>1.2</td>\n",
       "      <td>[]</td>\n",
       "      <td>[{'type': 'discussion', 'title': 'Getting star...</td>\n",
       "    </tr>\n",
       "    <tr>\n",
       "      <th>3</th>\n",
       "      <td>analyst16</td>\n",
       "      <td>Real Time Estimates</td>\n",
       "      <td>This dataset provides real-time access to the ...</td>\n",
       "      <td>{'id': 'analyst', 'name': 'Analyst'}</td>\n",
       "      <td>{'id': 'analyst-crowdsourced-estimates', 'name...</td>\n",
       "      <td>USA</td>\n",
       "      <td>1</td>\n",
       "      <td>TOP3000</td>\n",
       "      <td>0.8252</td>\n",
       "      <td>3.0</td>\n",
       "      <td>217</td>\n",
       "      <td>3288</td>\n",
       "      <td>107</td>\n",
       "      <td>1.2</td>\n",
       "      <td>[]</td>\n",
       "      <td>[{'type': 'research', 'title': 'Creating D0 Al...</td>\n",
       "    </tr>\n",
       "    <tr>\n",
       "      <th>4</th>\n",
       "      <td>analyst35</td>\n",
       "      <td>ESG Model</td>\n",
       "      <td>The dataset provide ESG related information ba...</td>\n",
       "      <td>{'id': 'analyst', 'name': 'Analyst'}</td>\n",
       "      <td>{'id': 'analyst-esg', 'name': 'ESG'}</td>\n",
       "      <td>USA</td>\n",
       "      <td>1</td>\n",
       "      <td>TOP3000</td>\n",
       "      <td>0.3771</td>\n",
       "      <td>4.0</td>\n",
       "      <td>69</td>\n",
       "      <td>455</td>\n",
       "      <td>46</td>\n",
       "      <td>1.2</td>\n",
       "      <td>[]</td>\n",
       "      <td>[{'type': 'discussion', 'title': 'Getting star...</td>\n",
       "    </tr>\n",
       "  </tbody>\n",
       "</table>\n",
       "</div>"
      ],
      "text/plain": [
       "          id                             name  \\\n",
       "0  analyst11                       ESG scores   \n",
       "1  analyst14  Estimations of Key Fundamentals   \n",
       "2  analyst15               Earnings forecasts   \n",
       "3  analyst16              Real Time Estimates   \n",
       "4  analyst35                        ESG Model   \n",
       "\n",
       "                                         description  \\\n",
       "0  Environmental Social Governance scores that ex...   \n",
       "1  This dataset reports many items from financial...   \n",
       "2  This dataset provides bottom-up forecast data ...   \n",
       "3  This dataset provides real-time access to the ...   \n",
       "4  The dataset provide ESG related information ba...   \n",
       "\n",
       "                               category  \\\n",
       "0  {'id': 'analyst', 'name': 'Analyst'}   \n",
       "1  {'id': 'analyst', 'name': 'Analyst'}   \n",
       "2  {'id': 'analyst', 'name': 'Analyst'}   \n",
       "3  {'id': 'analyst', 'name': 'Analyst'}   \n",
       "4  {'id': 'analyst', 'name': 'Analyst'}   \n",
       "\n",
       "                                         subcategory region  delay universe  \\\n",
       "0               {'id': 'analyst-esg', 'name': 'ESG'}    USA      1  TOP3000   \n",
       "1  {'id': 'analyst-analyst-estimates', 'name': 'A...    USA      1  TOP3000   \n",
       "2  {'id': 'analyst-analyst-estimates', 'name': 'A...    USA      1  TOP3000   \n",
       "3  {'id': 'analyst-crowdsourced-estimates', 'name...    USA      1  TOP3000   \n",
       "4               {'id': 'analyst-esg', 'name': 'ESG'}    USA      1  TOP3000   \n",
       "\n",
       "   coverage  valueScore  userCount  alphaCount  fieldCount  pyramidMultiplier  \\\n",
       "0    0.6818         3.0        321        3887         197                1.2   \n",
       "1    0.6203         2.0        677       43791         868                1.2   \n",
       "2    0.9892         2.0        858       75662        2538                1.2   \n",
       "3    0.8252         3.0        217        3288         107                1.2   \n",
       "4    0.3771         4.0         69         455          46                1.2   \n",
       "\n",
       "  themes                                     researchPapers  \n",
       "0     []  [{'type': 'discussion', 'title': 'Getting star...  \n",
       "1     []  [{'type': 'discussion', 'title': 'Getting star...  \n",
       "2     []  [{'type': 'discussion', 'title': 'Getting star...  \n",
       "3     []  [{'type': 'research', 'title': 'Creating D0 Al...  \n",
       "4     []  [{'type': 'discussion', 'title': 'Getting star...  "
      ]
     },
     "execution_count": 4,
     "metadata": {},
     "output_type": "execute_result"
    }
   ],
   "source": [
    "datasets_df = get_datasets(s) # by default we load all datasets USA TOP3000 delay 1\n",
    "datasets_df.head() # DataFrame.head() shows first 5 rows of the dataframe "
   ]
  },
  {
   "cell_type": "code",
   "execution_count": 15,
   "id": "23f16f9c",
   "metadata": {},
   "outputs": [
    {
     "data": {
      "text/plain": [
       "25"
      ]
     },
     "execution_count": 15,
     "metadata": {},
     "output_type": "execute_result"
    }
   ],
   "source": [
    "datasets = datasets_df[datasets_df['alphaCount']>10000]['id'].tolist()\n",
    "len(datasets)"
   ]
  },
  {
   "cell_type": "code",
   "execution_count": 6,
   "id": "6ecb5077",
   "metadata": {},
   "outputs": [
    {
     "data": {
      "text/plain": [
       "['analyst14', 'analyst15', 'analyst4', 'analyst7', 'fundamental13']"
      ]
     },
     "execution_count": 6,
     "metadata": {},
     "output_type": "execute_result"
    }
   ],
   "source": [
    "datasets[:5]"
   ]
  },
  {
   "cell_type": "code",
   "execution_count": 11,
   "id": "4cff7cb0",
   "metadata": {},
   "outputs": [
    {
     "name": "stdout",
     "output_type": "stream",
     "text": [
      "winsorize(ts_backfill(anl14_actvalue_bvps_fp0, 120), std=4)\n"
     ]
    },
    {
     "data": {
      "text/plain": [
       "27137"
      ]
     },
     "execution_count": 11,
     "metadata": {},
     "output_type": "execute_result"
    }
   ],
   "source": [
    "pc_fields = []\n",
    "for dd in datasets:\n",
    "    df = get_datafields(s, dataset_id = dd, region='USA', universe='TOP3000', delay=1)\n",
    "    temp = process_datafields(df, \"matrix\") + process_datafields(df, \"vector\")\n",
    "    pc_fields = pc_fields + temp\n",
    "\n",
    "print(pc_fields[0])\n",
    "len(pc_fields)"
   ]
  },
  {
   "cell_type": "code",
   "execution_count": 12,
   "id": "0f3f2fa7",
   "metadata": {},
   "outputs": [
    {
     "data": {
      "text/plain": [
       "27137"
      ]
     },
     "execution_count": 12,
     "metadata": {},
     "output_type": "execute_result"
    }
   ],
   "source": [
    "len(pc_fields)"
   ]
  },
  {
   "cell_type": "markdown",
   "id": "ff2dcbb2-2d6c-4076-ac5e-80857adc78a8",
   "metadata": {},
   "source": [
    "## 3, Alpha factory\n",
    "### start with First Order"
   ]
  },
  {
   "cell_type": "code",
   "execution_count": 13,
   "id": "6b95c83a-ec99-4564-84b0-5a2c011f8555",
   "metadata": {},
   "outputs": [
    {
     "name": "stdout",
     "output_type": "stream",
     "text": [
      "['winsorize(ts_backfill(anl14_actvalue_bvps_fp0, 120), std=4)', 'ts_rank(winsorize(ts_backfill(anl14_actvalue_bvps_fp0, 120), std=4), 5)', 'ts_rank(winsorize(ts_backfill(anl14_actvalue_bvps_fp0, 120), std=4), 22)', 'ts_rank(winsorize(ts_backfill(anl14_actvalue_bvps_fp0, 120), std=4), 66)', 'ts_rank(winsorize(ts_backfill(anl14_actvalue_bvps_fp0, 120), std=4), 120)', 'ts_rank(winsorize(ts_backfill(anl14_actvalue_bvps_fp0, 120), std=4), 240)', 'ts_zscore(winsorize(ts_backfill(anl14_actvalue_bvps_fp0, 120), std=4), 5)', 'ts_zscore(winsorize(ts_backfill(anl14_actvalue_bvps_fp0, 120), std=4), 22)', 'ts_zscore(winsorize(ts_backfill(anl14_actvalue_bvps_fp0, 120), std=4), 66)', 'ts_zscore(winsorize(ts_backfill(anl14_actvalue_bvps_fp0, 120), std=4), 120)']\n",
      "2333782\n"
     ]
    }
   ],
   "source": [
    "first_order = get_first_order(pc_fields, ts_ops)\n",
    "print(first_order[:10])\n",
    "print(len(first_order))"
   ]
  },
  {
   "cell_type": "code",
   "execution_count": 14,
   "id": "9e3da2b8",
   "metadata": {},
   "outputs": [
    {
     "name": "stdout",
     "output_type": "stream",
     "text": [
      "2333782\n",
      "[('winsorize(ts_backfill(anl14_actvalue_bvps_fp0, 120), std=4)', 4), ('ts_rank(winsorize(ts_backfill(anl14_actvalue_bvps_fp0, 120), std=4), 5)', 4), ('ts_rank(winsorize(ts_backfill(anl14_actvalue_bvps_fp0, 120), std=4), 22)', 4), ('ts_rank(winsorize(ts_backfill(anl14_actvalue_bvps_fp0, 120), std=4), 66)', 4), ('ts_rank(winsorize(ts_backfill(anl14_actvalue_bvps_fp0, 120), std=4), 120)', 4)]\n"
     ]
    }
   ],
   "source": [
    "# Pad initial decay with alpha\n",
    "init_decay = 4\n",
    "fo_alpha_list = []\n",
    "for alpha in first_order:\n",
    "    fo_alpha_list.append((alpha, init_decay))\n",
    "print(len(fo_alpha_list))\n",
    "print(fo_alpha_list[:5])"
   ]
  },
  {
   "cell_type": "code",
   "execution_count": 10,
   "id": "b4436351-0571-4beb-bf83-348c7dba9122",
   "metadata": {},
   "outputs": [
    {
     "name": "stdout",
     "output_type": "stream",
     "text": [
      "[[('winsorize(ts_backfill(anl14_actvalue_bvps_fp0, 120), std=4)', 4), ('ts_rank(winsorize(ts_backfill(anl14_actvalue_bvps_fp0, 120), std=4), 5)', 4), ('ts_rank(winsorize(ts_backfill(anl14_actvalue_bvps_fp0, 120), std=4), 22)', 4), ('ts_rank(winsorize(ts_backfill(anl14_actvalue_bvps_fp0, 120), std=4), 66)', 4), ('ts_rank(winsorize(ts_backfill(anl14_actvalue_bvps_fp0, 120), std=4), 120)', 4), ('ts_rank(winsorize(ts_backfill(anl14_actvalue_bvps_fp0, 120), std=4), 240)', 4), ('ts_zscore(winsorize(ts_backfill(anl14_actvalue_bvps_fp0, 120), std=4), 5)', 4), ('ts_zscore(winsorize(ts_backfill(anl14_actvalue_bvps_fp0, 120), std=4), 22)', 4), ('ts_zscore(winsorize(ts_backfill(anl14_actvalue_bvps_fp0, 120), std=4), 66)', 4), ('ts_zscore(winsorize(ts_backfill(anl14_actvalue_bvps_fp0, 120), std=4), 120)', 4)], [('ts_zscore(winsorize(ts_backfill(anl14_actvalue_bvps_fp0, 120), std=4), 240)', 4), ('ts_delta(winsorize(ts_backfill(anl14_actvalue_bvps_fp0, 120), std=4), 5)', 4), ('ts_delta(winsorize(ts_backfill(anl14_actvalue_bvps_fp0, 120), std=4), 22)', 4), ('ts_delta(winsorize(ts_backfill(anl14_actvalue_bvps_fp0, 120), std=4), 66)', 4), ('ts_delta(winsorize(ts_backfill(anl14_actvalue_bvps_fp0, 120), std=4), 120)', 4), ('ts_delta(winsorize(ts_backfill(anl14_actvalue_bvps_fp0, 120), std=4), 240)', 4), ('ts_sum(winsorize(ts_backfill(anl14_actvalue_bvps_fp0, 120), std=4), 5)', 4), ('ts_sum(winsorize(ts_backfill(anl14_actvalue_bvps_fp0, 120), std=4), 22)', 4), ('ts_sum(winsorize(ts_backfill(anl14_actvalue_bvps_fp0, 120), std=4), 66)', 4), ('ts_sum(winsorize(ts_backfill(anl14_actvalue_bvps_fp0, 120), std=4), 120)', 4)], [('ts_sum(winsorize(ts_backfill(anl14_actvalue_bvps_fp0, 120), std=4), 240)', 4), ('ts_product(winsorize(ts_backfill(anl14_actvalue_bvps_fp0, 120), std=4), 5)', 4), ('ts_product(winsorize(ts_backfill(anl14_actvalue_bvps_fp0, 120), std=4), 22)', 4), ('ts_product(winsorize(ts_backfill(anl14_actvalue_bvps_fp0, 120), std=4), 66)', 4), ('ts_product(winsorize(ts_backfill(anl14_actvalue_bvps_fp0, 120), std=4), 120)', 4), ('ts_product(winsorize(ts_backfill(anl14_actvalue_bvps_fp0, 120), std=4), 240)', 4), ('ts_ir(winsorize(ts_backfill(anl14_actvalue_bvps_fp0, 120), std=4), 5)', 4), ('ts_ir(winsorize(ts_backfill(anl14_actvalue_bvps_fp0, 120), std=4), 22)', 4), ('ts_ir(winsorize(ts_backfill(anl14_actvalue_bvps_fp0, 120), std=4), 66)', 4), ('ts_ir(winsorize(ts_backfill(anl14_actvalue_bvps_fp0, 120), std=4), 120)', 4)], [('ts_ir(winsorize(ts_backfill(anl14_actvalue_bvps_fp0, 120), std=4), 240)', 4), ('ts_std_dev(winsorize(ts_backfill(anl14_actvalue_bvps_fp0, 120), std=4), 5)', 4), ('ts_std_dev(winsorize(ts_backfill(anl14_actvalue_bvps_fp0, 120), std=4), 22)', 4), ('ts_std_dev(winsorize(ts_backfill(anl14_actvalue_bvps_fp0, 120), std=4), 66)', 4), ('ts_std_dev(winsorize(ts_backfill(anl14_actvalue_bvps_fp0, 120), std=4), 120)', 4), ('ts_std_dev(winsorize(ts_backfill(anl14_actvalue_bvps_fp0, 120), std=4), 240)', 4), ('ts_mean(winsorize(ts_backfill(anl14_actvalue_bvps_fp0, 120), std=4), 5)', 4), ('ts_mean(winsorize(ts_backfill(anl14_actvalue_bvps_fp0, 120), std=4), 22)', 4), ('ts_mean(winsorize(ts_backfill(anl14_actvalue_bvps_fp0, 120), std=4), 66)', 4), ('ts_mean(winsorize(ts_backfill(anl14_actvalue_bvps_fp0, 120), std=4), 120)', 4)], [('ts_mean(winsorize(ts_backfill(anl14_actvalue_bvps_fp0, 120), std=4), 240)', 4), ('ts_arg_min(winsorize(ts_backfill(anl14_actvalue_bvps_fp0, 120), std=4), 5)', 4), ('ts_arg_min(winsorize(ts_backfill(anl14_actvalue_bvps_fp0, 120), std=4), 22)', 4), ('ts_arg_min(winsorize(ts_backfill(anl14_actvalue_bvps_fp0, 120), std=4), 66)', 4), ('ts_arg_min(winsorize(ts_backfill(anl14_actvalue_bvps_fp0, 120), std=4), 120)', 4), ('ts_arg_min(winsorize(ts_backfill(anl14_actvalue_bvps_fp0, 120), std=4), 240)', 4), ('ts_arg_max(winsorize(ts_backfill(anl14_actvalue_bvps_fp0, 120), std=4), 5)', 4), ('ts_arg_max(winsorize(ts_backfill(anl14_actvalue_bvps_fp0, 120), std=4), 22)', 4), ('ts_arg_max(winsorize(ts_backfill(anl14_actvalue_bvps_fp0, 120), std=4), 66)', 4), ('ts_arg_max(winsorize(ts_backfill(anl14_actvalue_bvps_fp0, 120), std=4), 120)', 4)], [('ts_arg_max(winsorize(ts_backfill(anl14_actvalue_bvps_fp0, 120), std=4), 240)', 4), ('ts_min_diff(winsorize(ts_backfill(anl14_actvalue_bvps_fp0, 120), std=4), 5)', 4), ('ts_min_diff(winsorize(ts_backfill(anl14_actvalue_bvps_fp0, 120), std=4), 22)', 4), ('ts_min_diff(winsorize(ts_backfill(anl14_actvalue_bvps_fp0, 120), std=4), 66)', 4), ('ts_min_diff(winsorize(ts_backfill(anl14_actvalue_bvps_fp0, 120), std=4), 120)', 4), ('ts_min_diff(winsorize(ts_backfill(anl14_actvalue_bvps_fp0, 120), std=4), 240)', 4), ('ts_max_diff(winsorize(ts_backfill(anl14_actvalue_bvps_fp0, 120), std=4), 5)', 4), ('ts_max_diff(winsorize(ts_backfill(anl14_actvalue_bvps_fp0, 120), std=4), 22)', 4), ('ts_max_diff(winsorize(ts_backfill(anl14_actvalue_bvps_fp0, 120), std=4), 66)', 4), ('ts_max_diff(winsorize(ts_backfill(anl14_actvalue_bvps_fp0, 120), std=4), 120)', 4)], [('ts_max_diff(winsorize(ts_backfill(anl14_actvalue_bvps_fp0, 120), std=4), 240)', 4), ('ts_returns(winsorize(ts_backfill(anl14_actvalue_bvps_fp0, 120), std=4), 5)', 4), ('ts_returns(winsorize(ts_backfill(anl14_actvalue_bvps_fp0, 120), std=4), 22)', 4), ('ts_returns(winsorize(ts_backfill(anl14_actvalue_bvps_fp0, 120), std=4), 66)', 4), ('ts_returns(winsorize(ts_backfill(anl14_actvalue_bvps_fp0, 120), std=4), 120)', 4), ('ts_returns(winsorize(ts_backfill(anl14_actvalue_bvps_fp0, 120), std=4), 240)', 4), ('ts_scale(winsorize(ts_backfill(anl14_actvalue_bvps_fp0, 120), std=4), 5)', 4), ('ts_scale(winsorize(ts_backfill(anl14_actvalue_bvps_fp0, 120), std=4), 22)', 4), ('ts_scale(winsorize(ts_backfill(anl14_actvalue_bvps_fp0, 120), std=4), 66)', 4), ('ts_scale(winsorize(ts_backfill(anl14_actvalue_bvps_fp0, 120), std=4), 120)', 4)], [('ts_scale(winsorize(ts_backfill(anl14_actvalue_bvps_fp0, 120), std=4), 240)', 4), ('ts_skewness(winsorize(ts_backfill(anl14_actvalue_bvps_fp0, 120), std=4), 5)', 4), ('ts_skewness(winsorize(ts_backfill(anl14_actvalue_bvps_fp0, 120), std=4), 22)', 4), ('ts_skewness(winsorize(ts_backfill(anl14_actvalue_bvps_fp0, 120), std=4), 66)', 4), ('ts_skewness(winsorize(ts_backfill(anl14_actvalue_bvps_fp0, 120), std=4), 120)', 4), ('ts_skewness(winsorize(ts_backfill(anl14_actvalue_bvps_fp0, 120), std=4), 240)', 4), ('ts_kurtosis(winsorize(ts_backfill(anl14_actvalue_bvps_fp0, 120), std=4), 5)', 4), ('ts_kurtosis(winsorize(ts_backfill(anl14_actvalue_bvps_fp0, 120), std=4), 22)', 4), ('ts_kurtosis(winsorize(ts_backfill(anl14_actvalue_bvps_fp0, 120), std=4), 66)', 4), ('ts_kurtosis(winsorize(ts_backfill(anl14_actvalue_bvps_fp0, 120), std=4), 120)', 4)], [('ts_kurtosis(winsorize(ts_backfill(anl14_actvalue_bvps_fp0, 120), std=4), 240)', 4), ('ts_quantile(winsorize(ts_backfill(anl14_actvalue_bvps_fp0, 120), std=4), 5)', 4), ('ts_quantile(winsorize(ts_backfill(anl14_actvalue_bvps_fp0, 120), std=4), 22)', 4), ('ts_quantile(winsorize(ts_backfill(anl14_actvalue_bvps_fp0, 120), std=4), 66)', 4), ('ts_quantile(winsorize(ts_backfill(anl14_actvalue_bvps_fp0, 120), std=4), 120)', 4), ('ts_quantile(winsorize(ts_backfill(anl14_actvalue_bvps_fp0, 120), std=4), 240)', 4), ('winsorize(ts_backfill(anl14_actvalue_bvps_fy0, 120), std=4)', 4), ('ts_rank(winsorize(ts_backfill(anl14_actvalue_bvps_fy0, 120), std=4), 5)', 4), ('ts_rank(winsorize(ts_backfill(anl14_actvalue_bvps_fy0, 120), std=4), 22)', 4), ('ts_rank(winsorize(ts_backfill(anl14_actvalue_bvps_fy0, 120), std=4), 66)', 4)]]\n"
     ]
    }
   ],
   "source": [
    "# Load alphas to task pools\n",
    "pools = load_task_pool(fo_alpha_list, 10, 9)\n",
    "print(pools[0])"
   ]
  },
  {
   "cell_type": "code",
   "execution_count": null,
   "id": "0bae9d2a",
   "metadata": {},
   "outputs": [],
   "source": [
    "len(pools)"
   ]
  },
  {
   "cell_type": "markdown",
   "id": "ad4cf830-441d-45f1-8e5a-17fa54082461",
   "metadata": {},
   "source": [
    "## 4, simulate alphas"
   ]
  },
  {
   "cell_type": "code",
   "execution_count": null,
   "id": "b6c7e33f",
   "metadata": {},
   "outputs": [
    {
     "name": "stdout",
     "output_type": "stream",
     "text": [
      "b'{\"user\":{\"id\":\"TJ91365\"},\"token\":{\"expiry\":14400.0},\"permissions\":[\"CONSULTANT\",\"MULTI_SIMULATION\",\"PROD_ALPHAS\",\"REFERRAL\",\"VISUALIZATION\",\"WORKDAY\"]}'\n",
      "pool 0 task 8 post done\n"
     ]
    }
   ],
   "source": [
    "# Simulate First Order\n",
    "multi_simulate(pools, \"SUBINDUSTRY\", \"USA\", \"TOP3000\", 0)"
   ]
  },
  {
   "cell_type": "markdown",
   "id": "03124465-1fe9-4820-915a-bc21795bff00",
   "metadata": {},
   "source": [
    "## 5, Select alphas\n",
    "go to web alphas penal to look for the number and date to track for next order improve"
   ]
  },
  {
   "cell_type": "code",
   "execution_count": 13,
   "id": "764e459c",
   "metadata": {},
   "outputs": [
    {
     "name": "stdout",
     "output_type": "stream",
     "text": [
      "b'{\"user\":{\"id\":\"DZ43600\"},\"token\":{\"expiry\":14400.0},\"permissions\":[\"CONSULTANT\",\"MULTI_SIMULATION\",\"PROD_ALPHAS\",\"REFERRAL\",\"VISUALIZATION\",\"WORKDAY\"]}'\n",
      "0\n",
      "100\n",
      "200\n",
      "300\n",
      "400\n",
      "500\n",
      "600\n",
      "700\n",
      "800\n",
      "900\n",
      "count: 0\n"
     ]
    }
   ],
   "source": [
    "## get promising alphas to improve in the next order\n",
    "fo_tracker = get_alphas(\"12-12\", \"12-12\", 1.2, 0.5, \"USA\", 1000, \"track\")"
   ]
  },
  {
   "cell_type": "markdown",
   "id": "6a6ae688-d0e6-42bb-a9bd-a8d6a044b027",
   "metadata": {},
   "source": [
    "## 6, Next order improvement - Second Order\n",
    "second order: ts_ops(field, days) -> group_ops(ts_ops(field, days), group)"
   ]
  },
  {
   "cell_type": "code",
   "execution_count": 15,
   "id": "f7037d0a",
   "metadata": {},
   "outputs": [
    {
     "name": "stdout",
     "output_type": "stream",
     "text": [
      "0\n",
      "0\n",
      "0\n",
      "[]\n"
     ]
    }
   ],
   "source": [
    "print(len(fo_tracker['next']))\n",
    "print(len(fo_tracker['decay']))\n",
    "\n",
    "fo_layer = prune(fo_tracker['next'] + fo_tracker['decay'], 'USA', 'mdl26', 5)\n",
    "so_alpha_list = []\n",
    "group_ops = group_ops = [\"group_neutralize\", \"group_rank\", \"group_normalize\", \"group_scale\", \"group_zscore\"]\n",
    "for region, couples in fo_layer.items():\n",
    "    for expr, decay in couples:\n",
    "        for alpha in get_group_second_order_factory([expr], group_ops, region):\n",
    "            so_alpha_list.append((alpha,decay))\n",
    "\n",
    "print(len(so_alpha_list))\n",
    "print(so_alpha_list[:3])"
   ]
  },
  {
   "cell_type": "markdown",
   "id": "f20213f6",
   "metadata": {},
   "source": [
    "### Simulate second order"
   ]
  },
  {
   "cell_type": "code",
   "execution_count": 16,
   "id": "3fd912f9",
   "metadata": {},
   "outputs": [
    {
     "name": "stdout",
     "output_type": "stream",
     "text": [
      "b'{\"user\":{\"id\":\"DZ43600\"},\"token\":{\"expiry\":14400.0},\"permissions\":[\"CONSULTANT\",\"MULTI_SIMULATION\",\"PROD_ALPHAS\",\"REFERRAL\",\"VISUALIZATION\",\"WORKDAY\"]}'\n",
      "Simulate done\n"
     ]
    }
   ],
   "source": [
    "so_pools = load_task_pool(so_alpha_list, 9, 10)\n",
    "multi_simulate(so_pools, 'SUBINDUSTRY', 'USA', 'TOP3000', 0)"
   ]
  },
  {
   "cell_type": "markdown",
   "id": "2049d949",
   "metadata": {},
   "source": [
    "## Higher Order for improvement - Third Order\n",
    "group_ops(ts_ops(field, days), group) -> trade_when(entre_event, group_ops(ts_ops(field, days), group), exit_event)"
   ]
  },
  {
   "cell_type": "code",
   "execution_count": 17,
   "id": "81a8250b",
   "metadata": {},
   "outputs": [
    {
     "name": "stdout",
     "output_type": "stream",
     "text": [
      "b'{\"user\":{\"id\":\"DZ43600\"},\"token\":{\"expiry\":14400.0},\"permissions\":[\"CONSULTANT\",\"MULTI_SIMULATION\",\"PROD_ALPHAS\",\"REFERRAL\",\"VISUALIZATION\",\"WORKDAY\"]}'\n",
      "0\n",
      "100\n",
      "200\n",
      "300\n",
      "count: 0\n",
      "0\n",
      "0\n",
      "0\n"
     ]
    }
   ],
   "source": [
    "## get promising alphas from second order to improve in the third order\n",
    "so_tracker = get_alphas(\"12-12\", \"12-12\", 1.4, 0.7, \"USA\", 360, \"track\")\n",
    "\n",
    "print(len(so_tracker['next']))\n",
    "print(len(so_tracker['decay']))\n",
    "\n",
    "so_layer = prune(so_tracker['next'] + so_tracker['decay'], 'chn', 'mdl26', 5)\n",
    "th_alpha_list = []\n",
    "for region, couples in so_layer.items():\n",
    "    for expr, decay in couples:\n",
    "        for alpha in trade_when_factory(\"trade_when\",expr,region):\n",
    "            th_alpha_list.append((alpha,decay))\n",
    "print(len(th_alpha_list))"
   ]
  },
  {
   "cell_type": "markdown",
   "id": "f7fa679e",
   "metadata": {},
   "source": [
    "### Simulate Third Order"
   ]
  },
  {
   "cell_type": "code",
   "execution_count": 19,
   "id": "367d9436",
   "metadata": {},
   "outputs": [
    {
     "name": "stdout",
     "output_type": "stream",
     "text": [
      "b'{\"user\":{\"id\":\"DZ43600\"},\"token\":{\"expiry\":14400.0},\"permissions\":[\"CONSULTANT\",\"MULTI_SIMULATION\",\"PROD_ALPHAS\",\"REFERRAL\",\"VISUALIZATION\",\"WORKDAY\"]}'\n",
      "Simulate done\n"
     ]
    }
   ],
   "source": [
    "# Simulate third order\n",
    "th_pools = load_task_pool(th_alpha_list, 9, 10)\n",
    "multi_simulate(th_pools, 'SUBINDUSTRY', 'USA', 'TOP3000', 0)"
   ]
  },
  {
   "cell_type": "markdown",
   "id": "c55f86b4-b464-44e4-ab33-ca2532128fa2",
   "metadata": {},
   "source": [
    "## 7, Get submittable alphas\n",
    "check_submission and view alphas"
   ]
  },
  {
   "cell_type": "code",
   "execution_count": 21,
   "id": "0972b4ee-7b9d-4a6f-a7ec-e43849f54275",
   "metadata": {},
   "outputs": [
    {
     "name": "stdout",
     "output_type": "stream",
     "text": [
      "b'{\"user\":{\"id\":\"DZ43600\"},\"token\":{\"expiry\":14400.0},\"permissions\":[\"CONSULTANT\",\"MULTI_SIMULATION\",\"PROD_ALPHAS\",\"REFERRAL\",\"VISUALIZATION\",\"WORKDAY\"]}'\n",
      "0\n",
      "100\n",
      "count: 0\n"
     ]
    }
   ],
   "source": [
    "# get submitable alphas to check submission\n",
    "th_tracker = get_alphas(\"12-12\", \"12-12\", 1.58, 1, \"USA\", 200, \"submit\")"
   ]
  },
  {
   "cell_type": "code",
   "execution_count": 22,
   "id": "ecdb7bae-6d0c-45d2-a91e-7ca789e3b92d",
   "metadata": {},
   "outputs": [
    {
     "name": "stdout",
     "output_type": "stream",
     "text": [
      "0\n",
      "b'{\"user\":{\"id\":\"DZ43600\"},\"token\":{\"expiry\":14400.0},\"permissions\":[\"CONSULTANT\",\"MULTI_SIMULATION\",\"PROD_ALPHAS\",\"REFERRAL\",\"VISUALIZATION\",\"WORKDAY\"]}'\n",
      "[]\n"
     ]
    },
    {
     "data": {
      "text/plain": [
       "[]"
      ]
     },
     "execution_count": 22,
     "metadata": {},
     "output_type": "execute_result"
    }
   ],
   "source": [
    "stone_bag = []\n",
    "for alpha in th_tracker['next'] + th_tracker['decay']:\n",
    "    stone_bag.append(alpha[0])\n",
    "print(len(stone_bag))\n",
    "gold_bag = []\n",
    "check_submission(stone_bag, gold_bag, 0)"
   ]
  },
  {
   "cell_type": "code",
   "execution_count": 23,
   "id": "f54bcb30-6c07-4d59-b6ea-01508118b577",
   "metadata": {},
   "outputs": [
    {
     "name": "stdout",
     "output_type": "stream",
     "text": [
      "b'{\"user\":{\"id\":\"DZ43600\"},\"token\":{\"expiry\":14400.0},\"permissions\":[\"CONSULTANT\",\"MULTI_SIMULATION\",\"PROD_ALPHAS\",\"REFERRAL\",\"VISUALIZATION\",\"WORKDAY\"]}'\n"
     ]
    }
   ],
   "source": [
    "# look date and metrics to locate alphas in the web\n",
    "view_alphas(gold_bag)"
   ]
  },
  {
   "cell_type": "markdown",
   "id": "802d5f47-6a65-4b93-8f00-397cbd276520",
   "metadata": {},
   "source": [
    "## 8, fine-tune submittable alphas\n",
    "neutralization, performance comparison, turnover, margin"
   ]
  }
 ],
 "metadata": {
  "kernelspec": {
   "display_name": "Python 3 (ipykernel)",
   "language": "python",
   "name": "python3"
  },
  "language_info": {
   "codemirror_mode": {
    "name": "ipython",
    "version": 3
   },
   "file_extension": ".py",
   "mimetype": "text/x-python",
   "name": "python",
   "nbconvert_exporter": "python",
   "pygments_lexer": "ipython3",
   "version": "3.9.13"
  },
  "toc": {
   "base_numbering": 1,
   "nav_menu": {},
   "number_sections": false,
   "sideBar": true,
   "skip_h1_title": true,
   "title_cell": "Table of Contents",
   "title_sidebar": "Contents",
   "toc_cell": false,
   "toc_position": {
    "height": "calc(100% - 180px)",
    "left": "10px",
    "top": "150px",
    "width": "246.396px"
   },
   "toc_section_display": true,
   "toc_window_display": false
  }
 },
 "nbformat": 4,
 "nbformat_minor": 5
}
